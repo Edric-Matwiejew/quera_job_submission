{
 "cells": [
  {
   "cell_type": "markdown",
   "id": "d170b1db-93d1-4e1c-9d72-e2954ba6290b",
   "metadata": {},
   "source": [
    "# Writing Programs for Aquila"
   ]
  },
  {
   "cell_type": "markdown",
   "id": "c1773874-61f1-4b15-bef6-e2171041cba2",
   "metadata": {},
   "source": [
    "## Aquila Analog Computer\n",
    "\n",
    "The Aquila system will evolve neutral atoms under the following interacting Rydberg Hamiltonian:\n",
    "\n",
    "$$\n",
    "\\mathcal{H}(t) = \\mathcal{H}_{\\textrm{global}}(t) + \\mathcal{H}_{\\textrm{detuning}}(t) + \\mathcal{H}_{\\textrm{interaction}}(t)\n",
    "$$\n",
    "\n",
    "$$\n",
    "\\frac{\\mathcal{H}_{\\textrm{global}}(t)}{\\hbar} = \\sum_j \\frac{\\Omega_j(t)}{2} \\bigl(e^{i\\phi_j(t)} \\ket{g_j(t)} \\bra{r_j(t)}+e^{-i\\phi_j(t)} \\ket{r_j(t)} \\bra{g_j(t)}\\bigr) \n",
    "$$\n",
    "$$\n",
    "\\frac{\\mathcal{H}_{\\textrm{detuning}}(t)}{\\hbar} = - \\sum_j \\Delta_j(t) \\hat{n_j}\n",
    "$$\n",
    "$$\n",
    "\\frac{\\mathcal{H}_{\\textrm{interaction}}(t)}{\\hbar} = \\sum_{<j} V_{j,k} \\hat{n_j}\\hat{n_k}, \\textrm{where} V_{j,k}=C_6/∣x_j−x_k∣^6\n",
    "$$\n",
    "\n",
    "Thus, when programming a system, it is important to note that the three terms each play a role and have different associated noise. \n"
   ]
  },
  {
   "cell_type": "markdown",
   "id": "5f40230f-f0f2-40c2-9766-26322bf1c5f6",
   "metadata": {},
   "source": [
    "## Query Aquila capabilities \n",
    "To see the docstring in a Jupyter notebook, type out the object you're interested in and press `shift + tab`.\n",
    "\n",
    "The `bloqade function` `get_capabilities` returns the parameter value limits for Aquillia. \n",
    "\n",
    "We can use `shift + tab` to see its docstring, which defines the units for the returned values."
   ]
  },
  {
   "cell_type": "code",
   "execution_count": 2,
   "id": "01d80d79-1d93-4168-b42e-36882fa4f8d3",
   "metadata": {},
   "outputs": [
    {
     "name": "stdout",
     "output_type": "stream",
     "text": [
      "{'lattice': {'area': {'height': Decimal('76'), 'width': Decimal('75')},\n",
      "             'geometry': {'number_sites_max': 256,\n",
      "                          'position_resolution': Decimal('0.1'),\n",
      "                          'spacing_radial_min': Decimal('4'),\n",
      "                          'spacing_vertical_min': Decimal('4')},\n",
      "             'number_qubits_max': 256},\n",
      " 'rydberg': {'c6_coefficient': Decimal('5.42E+6'),\n",
      "             'global_': {'detuning_max': Decimal('125.0000000'),\n",
      "                         'detuning_min': Decimal('-125.0000000'),\n",
      "                         'detuning_resolution': Decimal('2E-7'),\n",
      "                         'detuning_slew_rate_max': Decimal('2500.0000000000000'),\n",
      "                         'phase_max': Decimal('99.0'),\n",
      "                         'phase_min': Decimal('-99.0'),\n",
      "                         'phase_resolution': Decimal('5E-7'),\n",
      "                         'rabi_frequency_max': Decimal('15.8000000'),\n",
      "                         'rabi_frequency_min': Decimal('0E-7'),\n",
      "                         'rabi_frequency_resolution': Decimal('0.0004000'),\n",
      "                         'rabi_frequency_slew_rate_max': Decimal('250.0000000000000'),\n",
      "                         'time_delta_min': Decimal('0.05'),\n",
      "                         'time_max': Decimal('4'),\n",
      "                         'time_min': Decimal('0E+5'),\n",
      "                         'time_resolution': Decimal('0.001')},\n",
      "             'local': {'detuning_max': Decimal('125.0000000'),\n",
      "                       'detuning_min': Decimal('0E-7'),\n",
      "                       'detuning_slew_rate_max': Decimal('1256.6000000000000'),\n",
      "                       'number_local_detuning_sites': 200,\n",
      "                       'site_coefficient_max': Decimal('1.0'),\n",
      "                       'site_coefficient_min': Decimal('0.0'),\n",
      "                       'spacing_radial_min': Decimal('5'),\n",
      "                       'time_delta_min': Decimal('0.05'),\n",
      "                       'time_resolution': Decimal('0.001')}},\n",
      " 'task': {'number_shots_max': 1000, 'number_shots_min': 1}}\n"
     ]
    }
   ],
   "source": [
    "import pprint # A standard Python library for 'pretty printing'\n",
    "from bloqade import get_capabilities \n",
    "\n",
    "capabilities = get_capabilities().dict()['capabilities']\n",
    "pprint.pprint(capabilities)"
   ]
  },
  {
   "cell_type": "code",
   "execution_count": 5,
   "id": "c3e34ffa-232f-41ba-8c0f-a65c32f2de4d",
   "metadata": {},
   "outputs": [
    {
     "data": {
      "text/plain": [
       "<function bloqade.factory.get_capabilities(use_experimental: bool = False) -> 'QuEraCapabilities'>"
      ]
     },
     "execution_count": 5,
     "metadata": {},
     "output_type": "execute_result"
    }
   ],
   "source": [
    "# this cell is an example of what you would see with shift + tab\n",
    "# great way to check the units \n",
    "get_capabilities"
   ]
  },
  {
   "cell_type": "markdown",
   "id": "1a2a6607-1390-4fd3-8453-54c192a4c4be",
   "metadata": {},
   "source": [
    "## Running some bloqade geometries\n",
    "\n",
    "To write a program for Aquila, we start with an atom geometry. Now lets try running some setups. Let's create a Chain of 4 atoms that are each $50 \\, \\mu m$ apart. Take a look at its methods and attributes.\n",
    "\n",
    "**Note**: Geometry is actually important on the real system because certain geometries are less noise than others (for example vertical rather than horizontal.)\n",
    "\n",
    "*Remember*: to see the methods and attributes of an object instance, first instantiate the object by evaluating the cell (`shift + return`), then type `.` followed by `tab`.\n"
   ]
  },
  {
   "cell_type": "code",
   "execution_count": 6,
   "id": "6f9b2689-4c65-4c28-9a70-883ac9982d7f",
   "metadata": {},
   "outputs": [],
   "source": [
    "from math import pi\n",
    "from bloqade.atom_arrangement import Chain"
   ]
  },
  {
   "cell_type": "code",
   "execution_count": 10,
   "id": "99efe22d-7fa4-4d01-9b4c-0a2ed33b142f",
   "metadata": {},
   "outputs": [
    {
     "data": {
      "text/plain": [
       "                                   \u001b[0m\u001b[38;5;15mAtom Positions\u001b[0m                               \u001b[0m\n",
       "     \u001b[0m\u001b[38;5;15m┌─────────────────────────────────────────────────────────────────────────┐\u001b[0m\n",
       "\u001b[38;5;15m 1.00┤\u001b[0m                                                                         \u001b[0m\u001b[38;5;15m│\u001b[0m\n",
       "     \u001b[0m\u001b[38;5;15m│\u001b[0m                                                                         \u001b[0m\u001b[38;5;15m│\u001b[0m\n",
       "     \u001b[0m\u001b[38;5;15m│\u001b[0m                                                                         \u001b[0m\u001b[38;5;15m│\u001b[0m\n",
       "\u001b[38;5;15m 0.67┤\u001b[0m                                                                         \u001b[0m\u001b[38;5;15m│\u001b[0m\n",
       "     \u001b[0m\u001b[38;5;15m│\u001b[0m                                                                         \u001b[0m\u001b[38;5;15m│\u001b[0m\n",
       "     \u001b[0m\u001b[38;5;15m│\u001b[0m                                                                         \u001b[0m\u001b[38;5;15m│\u001b[0m\n",
       "\u001b[38;5;15m 0.33┤\u001b[0m                                                                         \u001b[0m\u001b[38;5;15m│\u001b[0m\n",
       "     \u001b[0m\u001b[38;5;15m│\u001b[0m                                                                         \u001b[0m\u001b[38;5;15m│\u001b[0m\n",
       "     \u001b[0m\u001b[38;5;15m│\u001b[0m                                                                         \u001b[0m\u001b[38;5;15m│\u001b[0m\n",
       "\u001b[38;5;15m 0.00┤\u001b[0m\u001b[38;2;100;55;255m•\u001b[0m                       \u001b[0m\u001b[38;2;100;55;255m•\u001b[0m                       \u001b[0m\u001b[38;2;100;55;255m•\u001b[0m                       \u001b[0m\u001b[38;2;100;55;255m•\u001b[0m\u001b[38;5;15m│\u001b[0m\n",
       "     \u001b[0m\u001b[38;5;15m│\u001b[0m                                                                         \u001b[0m\u001b[38;5;15m│\u001b[0m\n",
       "     \u001b[0m\u001b[38;5;15m│\u001b[0m                                                                         \u001b[0m\u001b[38;5;15m│\u001b[0m\n",
       "\u001b[38;5;15m-0.33┤\u001b[0m                                                                         \u001b[0m\u001b[38;5;15m│\u001b[0m\n",
       "     \u001b[0m\u001b[38;5;15m│\u001b[0m                                                                         \u001b[0m\u001b[38;5;15m│\u001b[0m\n",
       "     \u001b[0m\u001b[38;5;15m│\u001b[0m                                                                         \u001b[0m\u001b[38;5;15m│\u001b[0m\n",
       "\u001b[38;5;15m-0.67┤\u001b[0m                                                                         \u001b[0m\u001b[38;5;15m│\u001b[0m\n",
       "     \u001b[0m\u001b[38;5;15m│\u001b[0m                                                                         \u001b[0m\u001b[38;5;15m│\u001b[0m\n",
       "     \u001b[0m\u001b[38;5;15m│\u001b[0m                                                                         \u001b[0m\u001b[38;5;15m│\u001b[0m\n",
       "\u001b[38;5;15m-1.00┤\u001b[0m                                                                         \u001b[0m\u001b[38;5;15m│\u001b[0m\n",
       "     \u001b[0m\u001b[38;5;15m└┬─────────────────┬─────────────────┬─────────────────┬─────────────────┬┘\u001b[0m\n",
       "     \u001b[0m\u001b[38;5;15m0.0\u001b[0m              \u001b[0m\u001b[38;5;15m37.5\u001b[0m              \u001b[0m\u001b[38;5;15m75.0\u001b[0m              \u001b[0m\u001b[38;5;15m112.5\u001b[0m           \u001b[0m\u001b[38;5;15m150.0\u001b[0m \u001b[0m\n",
       "\u001b[38;5;15my (um)\u001b[0m                                 \u001b[0m\u001b[38;5;15mx (um)\u001b[0m                                   \u001b[0m\n"
      ]
     },
     "execution_count": 10,
     "metadata": {},
     "output_type": "execute_result"
    }
   ],
   "source": [
    "geometry = Chain(4, lattice_spacing = 50.0)\n",
    "# you can always look at the geometry visually.\n",
    "geometry"
   ]
  },
  {
   "cell_type": "markdown",
   "id": "66554c83-1080-4a25-ae1e-54b4f225fa1b",
   "metadata": {},
   "source": [
    "Methods to create pulse sequences that manipulate the rabi pulse or local detunings are found under `geometry.rydberg`."
   ]
  },
  {
   "cell_type": "code",
   "execution_count": 11,
   "id": "21e5ada9-cb8e-4725-9ad9-28dcc940787a",
   "metadata": {},
   "outputs": [
    {
     "data": {
      "text/plain": [
       "<bloqade.builder.coupling.Rydberg at 0x10554e130>"
      ]
     },
     "execution_count": 11,
     "metadata": {},
     "output_type": "execute_result"
    }
   ],
   "source": [
    "# Again, try a shift+tab here\n",
    "geometry.rydberg"
   ]
  },
  {
   "cell_type": "markdown",
   "id": "18438a98-0d01-4130-bedf-12785807be83",
   "metadata": {},
   "source": [
    "## Evolving the system \n",
    "\n",
    "Let's create a simple program that applies a NOT gate to the initial $\\ket{1111}$ state, by applying a $\\pi$ Rabi pulse (a $\\pi$ rotation on the Bloch sphere). \n",
    "\n",
    "*Remember*: \n",
    "* Atoms are initialised in the $\\ket{1}$ state. \n",
    "* All atoms (qubits) undergo this evolution so you should get $\\ket{1111}\\rightarrow\\ket{0000}$. "
   ]
  },
  {
   "cell_type": "code",
   "execution_count": 12,
   "id": "d5f897be-180c-44c3-a1c5-3b7985db9f72",
   "metadata": {},
   "outputs": [],
   "source": [
    "NOT = (\n",
    "  geometry\n",
    "  .rydberg.rabi.amplitude.uniform\n",
    "  .constant(pi,1)\n",
    ")"
   ]
  },
  {
   "cell_type": "markdown",
   "id": "f11f3ab7-30b7-493c-87cb-8da54ae36502",
   "metadata": {},
   "source": [
    "We can simulate the program with the Python backend as follows.\n",
    "\n",
    "**NOTE**: $10000$ shots would cost USD $~1300$! (Also, is it even within the device capability limits?)"
   ]
  },
  {
   "cell_type": "code",
   "execution_count": 13,
   "id": "d2c31633-4777-43b5-936c-ae4d9e39cc03",
   "metadata": {},
   "outputs": [
    {
     "data": {
      "text/plain": [
       "[OrderedDict([('0000', 10000)])]"
      ]
     },
     "execution_count": 13,
     "metadata": {},
     "output_type": "execute_result"
    }
   ],
   "source": [
    "n_shots = 10000\n",
    "results = NOT.bloqade.python().run(n_shots)\n",
    "results.report().counts()"
   ]
  },
  {
   "cell_type": "markdown",
   "id": "f2f71aa4-d09b-41b0-8521-0a01be186e47",
   "metadata": {},
   "source": [
    "The `results` object contains quite a bit of information, use `results.report().show()` to open a visualisation of the simulation results.\n",
    "**Note** that the above results are for an *ideal* system and setup. "
   ]
  },
  {
   "cell_type": "code",
   "execution_count": 18,
   "id": "87359593-de3e-4d41-a08d-7792a77580e1",
   "metadata": {},
   "outputs": [
    {
     "name": "stdout",
     "output_type": "stream",
     "text": [
      "0.0 150000000.0 0.0 0.0\n"
     ]
    }
   ],
   "source": [
    "# this can be a bit temperamental and also will open a window in the default browser\n",
    "results.report().show()"
   ]
  },
  {
   "cell_type": "markdown",
   "id": "ec879e81-64d8-4302-8623-45d503ea1e08",
   "metadata": {},
   "source": [
    "To run a simulation on Aquilla the atom geometry and pulse sequence must be within the its capability limits.\n",
    "\n",
    "With that in mind, there are a couple issues with our `NOT` program:\n",
    "\n",
    "* The chain has a horizontal length of $200 \\, \\mu m$, while the maximum width is $75 \\, \\mu m$.\n",
    "* A `constant` pulse is not possible in practice; the Rabi amplitude waveform must start and end at zero."
   ]
  },
  {
   "cell_type": "code",
   "execution_count": 19,
   "id": "14f122fb-85a4-40a2-a551-d788d4bf4518",
   "metadata": {},
   "outputs": [
    {
     "data": {
      "text/plain": [
       "[OrderedDict([('0000', 9302),\n",
       "              ('0100', 247),\n",
       "              ('0010', 231),\n",
       "              ('1000', 64),\n",
       "              ('0001', 47),\n",
       "              ('0110', 45),\n",
       "              ('1100', 29),\n",
       "              ('0011', 28),\n",
       "              ('1010', 3),\n",
       "              ('0101', 2),\n",
       "              ('1101', 1),\n",
       "              ('1110', 1)])]"
      ]
     },
     "execution_count": 19,
     "metadata": {},
     "output_type": "execute_result"
    }
   ],
   "source": [
    "# Reducing the atom spacing.\n",
    "\n",
    "geometry = Chain(4, lattice_spacing = 15.0)\n",
    "\n",
    "NOT = (\n",
    "  geometry\n",
    "  .rydberg.rabi.amplitude.uniform\n",
    "  .constant(pi,1)\n",
    ")\n",
    "\n",
    "results = NOT.bloqade.python().run(n_shots)\n",
    "results.report().counts()"
   ]
  },
  {
   "cell_type": "markdown",
   "id": "f3c58b2e-4adf-4106-8135-3a5fd7f53074",
   "metadata": {},
   "source": [
    "Now instead the results show a large number of *incorrect* answers but the correct result accounts for $93\\%$. Yet this is not representative of what could be run on the system. We need to adjust the pulse. Instead of `uniform` we need to specify a continuous pulse sequence. Here we use `peicewise_linear`."
   ]
  },
  {
   "cell_type": "code",
   "execution_count": 20,
   "id": "732866f8-5063-4952-9df4-8831b6138e62",
   "metadata": {},
   "outputs": [
    {
     "data": {
      "text/plain": [
       "[OrderedDict([('0000', 8972),\n",
       "              ('0100', 287),\n",
       "              ('0010', 262),\n",
       "              ('0001', 140),\n",
       "              ('1000', 115),\n",
       "              ('0110', 87),\n",
       "              ('0011', 62),\n",
       "              ('1100', 60),\n",
       "              ('0101', 4),\n",
       "              ('1010', 3),\n",
       "              ('1011', 3),\n",
       "              ('1110', 3),\n",
       "              ('0111', 2)])]"
      ]
     },
     "execution_count": 20,
     "metadata": {},
     "output_type": "execute_result"
    }
   ],
   "source": [
    "NOT = (\n",
    "  geometry\n",
    "  .rydberg.rabi.amplitude.uniform\n",
    "  .piecewise_linear(values = [0, pi, pi, 0], durations = [0.06, 1, 0.06])\n",
    ")\n",
    "\n",
    "results = NOT.bloqade.python().run(n_shots)\n",
    "results.report().counts()"
   ]
  },
  {
   "cell_type": "markdown",
   "id": "7f8d0826-0277-46e6-8d91-2c21aba169ba",
   "metadata": {},
   "source": [
    "Again, the correct result is $<100\\%$ and has even gotten worse. \n",
    "\n",
    "As the pulse now has a ramp-up and ramp-dow period, we need to factor this into the total pulse area.\n",
    "\n",
    "By reducing the time spent at a Rabi amplitude of $\\pi$ based on the area of the ramp-up and ramp-down periods, the accuracy of the `NOT` program improves."
   ]
  },
  {
   "cell_type": "code",
   "execution_count": 15,
   "id": "447c7343-0b94-46e0-9b28-74db6a9e71c6",
   "metadata": {},
   "outputs": [
    {
     "data": {
      "text/plain": [
       "[OrderedDict([('11', 3648), ('10', 3194), ('01', 3158)])]"
      ]
     },
     "execution_count": 15,
     "metadata": {},
     "output_type": "execute_result"
    }
   ],
   "source": [
    "area_correction = 2*0.06*0.5\n",
    "\n",
    "NOT = (\n",
    "  geometry\n",
    "  .rydberg.rabi.amplitude.uniform\n",
    "  .piecewise_linear(values = [0, pi, pi, 0], durations = [0.06, 1 - area_correction, 0.06])\n",
    ")\n",
    "# if you want to see the program to be run \n",
    "# NOT.show()\n",
    "\n",
    "results = NOT.bloqade.python().run(n_shots)\n",
    "results.report().counts()"
   ]
  },
  {
   "cell_type": "markdown",
   "id": "2b918d62-62f7-4263-b8be-1f0d6141b82b",
   "metadata": {},
   "source": [
    "Now we are back to $93\\%$. Yet this is for lots of shots AND also assumes an ideal system. There is no noise here. This is a key thing to consider. Now consider trying this using a job submission script and compare the results."
   ]
  },
  {
   "cell_type": "markdown",
   "id": "b6fe30cd-8203-4ec4-9768-7f6d0bd132c5",
   "metadata": {},
   "source": [
    "## Submitting \n",
    "Now let's consider submitting to Aquila itself. This relies on make using of a magic token and a url. The function below takes a program (sequence of pulses applied to a geometry) and sends this to the url for Aquila with the appropriate key.\n"
   ]
  },
  {
   "cell_type": "code",
   "execution_count": 37,
   "id": "682c01c7-b938-46b0-ae86-07dc4a4f22e3",
   "metadata": {},
   "outputs": [],
   "source": [
    "def SubmitToAquila(program, \n",
    "                   nshots, \n",
    "                   magic_key = \"fake_key\", \n",
    "                   url = \"fake_url\", \n",
    "                   body_template = \"{task_ir}\"\n",
    "                  ):\n",
    "    \"\"\"Submit a job to Aquila and check that response code indicates it has been submitted\n",
    "    \"\"\"\n",
    "    \n",
    "    if magic_key == \"fake_key\" or url == \"fake_url\":\n",
    "        print(f\"Not submitting program ... given magic_key={magic_key}, url={url}\")\n",
    "        return \n",
    "    request_options = dict(params={\"key\": magic_key})\n",
    "    result = program.quera.custom().submit(nshots, url, body_template, request_options = request_options)\n",
    "\n",
    "    # Response code of 200 if the submission was successful.\n",
    "    while result != \"200\":\n",
    "        sleep(1)\n"
   ]
  },
  {
   "cell_type": "code",
   "execution_count": 48,
   "id": "ce49683e-3448-418a-b910-f188deefc04f",
   "metadata": {},
   "outputs": [
    {
     "name": "stdout",
     "output_type": "stream",
     "text": [
      "Not submitting program ... given magic_key=fake_key, url=fake_url\n"
     ]
    }
   ],
   "source": [
    "geometry = Chain(2, lattice_spacing = 6)\n",
    "ramp_time=0.06\n",
    "area_correction = 2*ramp_time*0.5\n",
    "pulse_sequence = start.rydberg.rabi.amplitude.uniform.piecewise_linear(\n",
    "    values = [0, pi, pi, 0], \n",
    "    durations = [ramp_time, 1 - area_correction, ramp_time]\n",
    ")\n",
    "pulse_sequence = pulse_sequence.parse_sequence()\n",
    "program = geometry.apply(pulse_sequence)\n",
    "\n",
    "# could set the pulse for the geometry directly but does mean can't build a series of local detunings easily\n",
    "# program = geometry.rydberg.rabi.amplitude.uniform.piecewise_linear(\n",
    "#     values = [0, pi, pi, 0], \n",
    "#     durations = [ramp_time, 1 - area_correction, ramp_time]\n",
    "# )\n",
    "\n",
    "SubmitToAquila(program, 100)\n"
   ]
  },
  {
   "cell_type": "markdown",
   "id": "6f592da8-218e-4cbf-8fa2-b41f2f84a53f",
   "metadata": {},
   "source": [
    "## CNOT?\n",
    "This set of instructions showcases adding local detuning along with the global pulse. The goal is to see if we can construct a CNOT gate using a global pulse, local detuning and the geometry of the system, a $\\ket{11}$. \n",
    "\n",
    "The global pulse here consists of 3 $\\pi$ pulses, where we ramp and then down. Here $\\mathcal{H}\\ket{\\Phi}$ is equivalent to 3 NOT pulses, ie: $\\ket{11}\\rightarrow\\ket{00}$. At least that would be the case in the absence of an interaction term (try placing with the spacing). With the interaction term, you get a mix of $\\ket{11}, \\ket{01}, \\ket{10}$ states. \n",
    "\n",
    "The local detuning then ensures that instead the second qubit's value is dictated by the first giving mostly $\\ket{11}$. "
   ]
  },
  {
   "cell_type": "code",
   "execution_count": 80,
   "id": "d76d3e27-c1a1-402f-941c-b814e0d08cdd",
   "metadata": {},
   "outputs": [
    {
     "name": "stdout",
     "output_type": "stream",
     "text": [
      "Global pulse results [OrderedDict([('11', 49), ('10', 26), ('01', 25)])]\n",
      "Local detuning added [OrderedDict([('11', 98), ('01', 1), ('10', 1)])]\n"
     ]
    }
   ],
   "source": [
    "# lets setup the two qubits \n",
    "\n",
    "# if verbose is set to true, show the programs and the results as full windows.\n",
    "verbose = False\n",
    "\n",
    "# if want to try seeing how the interaction term affects system\n",
    "NOT_spacing = False\n",
    "spacing = 6\n",
    "if NOT_spacing == True:\n",
    "    spacing = 40.0 \n",
    "    \n",
    "geometry = Chain(2, lattice_spacing = spacing)\n",
    "\n",
    "# number of shots\n",
    "nshots = 100\n",
    "\n",
    "# a global pulse\n",
    "pulse_sequence = (start\n",
    "    .rydberg\n",
    "    .rabi\n",
    "    .amplitude\n",
    "    .uniform\n",
    "    .piecewise_linear([0.06, 1, 0.06, 0.06, 1, 0.06, 0.06, 1, 0.06],[0, pi, pi, 0, pi, pi, 0, pi, pi, 0]))\n",
    "\n",
    "# lets look at what the global pulse would do on its own\n",
    "global_pulse_sequence = pulse_sequence.parse_sequence()\n",
    "global_pulse_program = geometry.apply(global_pulse_sequence)\n",
    "results = global_pulse_program.bloqade.python().run(nshots)\n",
    "if verbose == True:\n",
    "    global_pulse_program.show()\n",
    "    results.report().show()\n",
    "bitstring_counts = results.report().counts()\n",
    "print(\"Global pulse results\", bitstring_counts)\n",
    "\n",
    "# local detuning pulses \n",
    "# add pulse to first qubit\n",
    "pulse_sequence = (pulse_sequence.rydberg\n",
    "    .detuning\n",
    "    .location(0)\n",
    "    .piecewise_linear([0.06, 1, 0.06, 0.06, 1, 0.06, 0.06, 1, 0.06], [0, -50, -50, 0, 0, 0, 0, -50, -50, 0]))\n",
    "\n",
    "# and then second qubit\n",
    "pulse_sequence = (pulse_sequence.rydberg\n",
    "    .detuning\n",
    "    .location(1)\n",
    "    .piecewise_linear([1.12, 0.06, 1, 0.06],[0, 0, -50, -50, 0]))\n",
    "\n",
    "# setup the system\n",
    "pulse_sequence = pulse_sequence.parse_sequence()\n",
    "geometry = Chain(2, lattice_spacing = spacing)\n",
    "program = geometry.apply(pulse_sequence)\n",
    "\n",
    "# if you want to see program uncomment\n",
    "results = program.bloqade.python().run(nshots)\n",
    "if verbose == True:\n",
    "    program.show()\n",
    "    results.report().show()\n",
    "bitstring_counts = results.report().counts()\n",
    "print(\"Local detuning added\", bitstring_counts)\n"
   ]
  },
  {
   "cell_type": "markdown",
   "id": "c0daa107-478e-48f3-98a1-727fd807ed6d",
   "metadata": {},
   "source": [
    "## Other Geometries \n",
    "Here we show some other geometries. The best place to get some information is [https://bloqade.quera.com/latest/home/quick_start/#defining-atom-geometry]"
   ]
  },
  {
   "cell_type": "code",
   "execution_count": 81,
   "id": "aab23ec0-40f7-4e16-83b6-7aaaa184c768",
   "metadata": {},
   "outputs": [],
   "source": [
    "from bloqade.atom_arrangement import Square, Kagome\n",
    "simple_geometry = Square(2, 4, lattice_spacing = 4.0)\n",
    "more_complex_geometry = Kagome(2, 2, lattice_spacing = 2.0)\n",
    "even_more_complex_geometry = defective_geometry = more_complex_geometry.apply_defect_density(0.2)\n",
    "\n",
    "# and now can construt a specific geometry\n",
    "my_geometry = start.add_position([(1,2), (3,4), (5,6)])\n",
    "my_geometry_odd_qubit_order = start.add_position([(5,23.0), (0.,0.), (74.0,74.0), (55.55,2.0)])"
   ]
  },
  {
   "cell_type": "code",
   "execution_count": 57,
   "id": "e2320627-fb6a-41ca-a259-d9102c8f8771",
   "metadata": {},
   "outputs": [
    {
     "data": {
      "text/plain": [
       "                                  \u001b[0m\u001b[38;5;15mAtom Positions\u001b[0m                                \u001b[0m\n",
       "  \u001b[0m\u001b[38;5;15m┌────────────────────────────────────────────────────────────────────────────┐\u001b[0m\n",
       "\u001b[38;5;15m12┤\u001b[0m\u001b[38;2;100;55;255m•\u001b[0m                                                                          \u001b[0m\u001b[38;2;100;55;255m•\u001b[0m\u001b[38;5;15m│\u001b[0m\n",
       "  \u001b[0m\u001b[38;5;15m│\u001b[0m                                                                            \u001b[0m\u001b[38;5;15m│\u001b[0m\n",
       "  \u001b[0m\u001b[38;5;15m│\u001b[0m                                                                            \u001b[0m\u001b[38;5;15m│\u001b[0m\n",
       "\u001b[38;5;15m10┤\u001b[0m                                                                            \u001b[0m\u001b[38;5;15m│\u001b[0m\n",
       "  \u001b[0m\u001b[38;5;15m│\u001b[0m                                                                            \u001b[0m\u001b[38;5;15m│\u001b[0m\n",
       "  \u001b[0m\u001b[38;5;15m│\u001b[0m                                                                            \u001b[0m\u001b[38;5;15m│\u001b[0m\n",
       "\u001b[38;5;15m 8┤\u001b[0m\u001b[38;2;100;55;255m•\u001b[0m                                                                          \u001b[0m\u001b[38;2;100;55;255m•\u001b[0m\u001b[38;5;15m│\u001b[0m\n",
       "  \u001b[0m\u001b[38;5;15m│\u001b[0m                                                                            \u001b[0m\u001b[38;5;15m│\u001b[0m\n",
       "  \u001b[0m\u001b[38;5;15m│\u001b[0m                                                                            \u001b[0m\u001b[38;5;15m│\u001b[0m\n",
       "\u001b[38;5;15m 6┤\u001b[0m                                                                            \u001b[0m\u001b[38;5;15m│\u001b[0m\n",
       "  \u001b[0m\u001b[38;5;15m│\u001b[0m                                                                            \u001b[0m\u001b[38;5;15m│\u001b[0m\n",
       "  \u001b[0m\u001b[38;5;15m│\u001b[0m                                                                            \u001b[0m\u001b[38;5;15m│\u001b[0m\n",
       "\u001b[38;5;15m 4┤\u001b[0m\u001b[38;2;100;55;255m•\u001b[0m                                                                          \u001b[0m\u001b[38;2;100;55;255m•\u001b[0m\u001b[38;5;15m│\u001b[0m\n",
       "  \u001b[0m\u001b[38;5;15m│\u001b[0m                                                                            \u001b[0m\u001b[38;5;15m│\u001b[0m\n",
       "  \u001b[0m\u001b[38;5;15m│\u001b[0m                                                                            \u001b[0m\u001b[38;5;15m│\u001b[0m\n",
       "\u001b[38;5;15m 2┤\u001b[0m                                                                            \u001b[0m\u001b[38;5;15m│\u001b[0m\n",
       "  \u001b[0m\u001b[38;5;15m│\u001b[0m                                                                            \u001b[0m\u001b[38;5;15m│\u001b[0m\n",
       "  \u001b[0m\u001b[38;5;15m│\u001b[0m                                                                            \u001b[0m\u001b[38;5;15m│\u001b[0m\n",
       "\u001b[38;5;15m 0┤\u001b[0m\u001b[38;2;100;55;255m•\u001b[0m                                                                          \u001b[0m\u001b[38;2;100;55;255m•\u001b[0m\u001b[38;5;15m│\u001b[0m\n",
       "  \u001b[0m\u001b[38;5;15m└┬──────────────────┬──────────────────┬─────────────────┬──────────────────┬┘\u001b[0m\n",
       "   \u001b[0m\u001b[38;5;15m0\u001b[0m                  \u001b[0m\u001b[38;5;15m1\u001b[0m                  \u001b[0m\u001b[38;5;15m2\u001b[0m                 \u001b[0m\u001b[38;5;15m3\u001b[0m                  \u001b[0m\u001b[38;5;15m4\u001b[0m \u001b[0m\n",
       "\u001b[38;5;15my (um)\u001b[0m                                \u001b[0m\u001b[38;5;15mx (um)\u001b[0m                                    \u001b[0m\n"
      ]
     },
     "execution_count": 57,
     "metadata": {},
     "output_type": "execute_result"
    }
   ],
   "source": [
    "simple_geometry "
   ]
  },
  {
   "cell_type": "code",
   "execution_count": 58,
   "id": "8dfa360c-c098-4922-9fb9-7e300b515179",
   "metadata": {},
   "outputs": [
    {
     "data": {
      "text/plain": [
       "                                   \u001b[0m\u001b[38;5;15mAtom Positions\u001b[0m                               \u001b[0m\n",
       "    \u001b[0m\u001b[38;5;15m┌──────────────────────────────────────────────────────────────────────────┐\u001b[0m\n",
       "\u001b[38;5;15m2.60┤\u001b[0m                           \u001b[0m\u001b[38;2;100;55;255m•\u001b[0m                                    \u001b[0m\u001b[38;2;100;55;255m•\u001b[0m         \u001b[0m\u001b[38;5;15m│\u001b[0m\n",
       "    \u001b[0m\u001b[38;5;15m│\u001b[0m                                                                          \u001b[0m\u001b[38;5;15m│\u001b[0m\n",
       "    \u001b[0m\u001b[38;5;15m│\u001b[0m                                                                          \u001b[0m\u001b[38;5;15m│\u001b[0m\n",
       "\u001b[38;5;15m2.17┤\u001b[0m                                                                          \u001b[0m\u001b[38;5;15m│\u001b[0m\n",
       "    \u001b[0m\u001b[38;5;15m│\u001b[0m                                                                          \u001b[0m\u001b[38;5;15m│\u001b[0m\n",
       "    \u001b[0m\u001b[38;5;15m│\u001b[0m                                                                          \u001b[0m\u001b[38;5;15m│\u001b[0m\n",
       "\u001b[38;5;15m1.73┤\u001b[0m                  \u001b[0m\u001b[38;2;100;55;255m•\u001b[0m                  \u001b[0m\u001b[38;2;100;55;255m•\u001b[0m                 \u001b[0m\u001b[38;2;100;55;255m•\u001b[0m                 \u001b[0m\u001b[38;2;100;55;255m•\u001b[0m\u001b[38;5;15m│\u001b[0m\n",
       "    \u001b[0m\u001b[38;5;15m│\u001b[0m                                                                          \u001b[0m\u001b[38;5;15m│\u001b[0m\n",
       "    \u001b[0m\u001b[38;5;15m│\u001b[0m                                                                          \u001b[0m\u001b[38;5;15m│\u001b[0m\n",
       "\u001b[38;5;15m1.30┤\u001b[0m                                                                          \u001b[0m\u001b[38;5;15m│\u001b[0m\n",
       "    \u001b[0m\u001b[38;5;15m│\u001b[0m                                                                          \u001b[0m\u001b[38;5;15m│\u001b[0m\n",
       "    \u001b[0m\u001b[38;5;15m│\u001b[0m                                                                          \u001b[0m\u001b[38;5;15m│\u001b[0m\n",
       "\u001b[38;5;15m0.87┤\u001b[0m         \u001b[0m\u001b[38;2;100;55;255m•\u001b[0m                                    \u001b[0m\u001b[38;2;100;55;255m•\u001b[0m                           \u001b[0m\u001b[38;5;15m│\u001b[0m\n",
       "    \u001b[0m\u001b[38;5;15m│\u001b[0m                                                                          \u001b[0m\u001b[38;5;15m│\u001b[0m\n",
       "    \u001b[0m\u001b[38;5;15m│\u001b[0m                                                                          \u001b[0m\u001b[38;5;15m│\u001b[0m\n",
       "\u001b[38;5;15m0.43┤\u001b[0m                                                                          \u001b[0m\u001b[38;5;15m│\u001b[0m\n",
       "    \u001b[0m\u001b[38;5;15m│\u001b[0m                                                                          \u001b[0m\u001b[38;5;15m│\u001b[0m\n",
       "    \u001b[0m\u001b[38;5;15m│\u001b[0m                                                                          \u001b[0m\u001b[38;5;15m│\u001b[0m\n",
       "\u001b[38;5;15m0.00┤\u001b[0m\u001b[38;2;100;55;255m•\u001b[0m                 \u001b[0m\u001b[38;2;100;55;255m•\u001b[0m                  \u001b[0m\u001b[38;2;100;55;255m•\u001b[0m                 \u001b[0m\u001b[38;2;100;55;255m•\u001b[0m                  \u001b[0m\u001b[38;5;15m│\u001b[0m\n",
       "    \u001b[0m\u001b[38;5;15m└┬─────────────────┬──────────────────┬─────────────────┬─────────────────┬┘\u001b[0m\n",
       "     \u001b[0m\u001b[38;5;15m0\u001b[0m                 \u001b[0m\u001b[38;5;15m1\u001b[0m                  \u001b[0m\u001b[38;5;15m2\u001b[0m                 \u001b[0m\u001b[38;5;15m3\u001b[0m                 \u001b[0m\u001b[38;5;15m4\u001b[0m \u001b[0m\n",
       "\u001b[38;5;15my (um)\u001b[0m                                 \u001b[0m\u001b[38;5;15mx (um)\u001b[0m                                   \u001b[0m\n"
      ]
     },
     "execution_count": 58,
     "metadata": {},
     "output_type": "execute_result"
    }
   ],
   "source": [
    "more_complex_geometry"
   ]
  },
  {
   "cell_type": "code",
   "execution_count": 64,
   "id": "df67ecec-3707-4558-98d2-88d16473213f",
   "metadata": {},
   "outputs": [
    {
     "data": {
      "text/plain": [
       "                                   \u001b[0m\u001b[38;5;15mAtom Positions\u001b[0m                               \u001b[0m\n",
       "    \u001b[0m\u001b[38;5;15m┌──────────────────────────────────────────────────────────────────────────┐\u001b[0m\n",
       "\u001b[38;5;15m6.00┤\u001b[0m                                                                         \u001b[0m\u001b[38;2;100;55;255m•\u001b[0m\u001b[38;5;15m│\u001b[0m\n",
       "    \u001b[0m\u001b[38;5;15m│\u001b[0m                                                                          \u001b[0m\u001b[38;5;15m│\u001b[0m\n",
       "    \u001b[0m\u001b[38;5;15m│\u001b[0m                                                                          \u001b[0m\u001b[38;5;15m│\u001b[0m\n",
       "\u001b[38;5;15m5.33┤\u001b[0m                                                                          \u001b[0m\u001b[38;5;15m│\u001b[0m\n",
       "    \u001b[0m\u001b[38;5;15m│\u001b[0m                                                                          \u001b[0m\u001b[38;5;15m│\u001b[0m\n",
       "    \u001b[0m\u001b[38;5;15m│\u001b[0m                                                                          \u001b[0m\u001b[38;5;15m│\u001b[0m\n",
       "\u001b[38;5;15m4.67┤\u001b[0m                                                                          \u001b[0m\u001b[38;5;15m│\u001b[0m\n",
       "    \u001b[0m\u001b[38;5;15m│\u001b[0m                                                                          \u001b[0m\u001b[38;5;15m│\u001b[0m\n",
       "    \u001b[0m\u001b[38;5;15m│\u001b[0m                                                                          \u001b[0m\u001b[38;5;15m│\u001b[0m\n",
       "\u001b[38;5;15m4.00┤\u001b[0m                                     \u001b[0m\u001b[38;2;100;55;255m•\u001b[0m                                    \u001b[0m\u001b[38;5;15m│\u001b[0m\n",
       "    \u001b[0m\u001b[38;5;15m│\u001b[0m                                                                          \u001b[0m\u001b[38;5;15m│\u001b[0m\n",
       "    \u001b[0m\u001b[38;5;15m│\u001b[0m                                                                          \u001b[0m\u001b[38;5;15m│\u001b[0m\n",
       "\u001b[38;5;15m3.33┤\u001b[0m                                                                          \u001b[0m\u001b[38;5;15m│\u001b[0m\n",
       "    \u001b[0m\u001b[38;5;15m│\u001b[0m                                                                          \u001b[0m\u001b[38;5;15m│\u001b[0m\n",
       "    \u001b[0m\u001b[38;5;15m│\u001b[0m                                                                          \u001b[0m\u001b[38;5;15m│\u001b[0m\n",
       "\u001b[38;5;15m2.67┤\u001b[0m                                                                          \u001b[0m\u001b[38;5;15m│\u001b[0m\n",
       "    \u001b[0m\u001b[38;5;15m│\u001b[0m                                                                          \u001b[0m\u001b[38;5;15m│\u001b[0m\n",
       "    \u001b[0m\u001b[38;5;15m│\u001b[0m                                                                          \u001b[0m\u001b[38;5;15m│\u001b[0m\n",
       "\u001b[38;5;15m2.00┤\u001b[0m\u001b[38;2;100;55;255m•\u001b[0m                                                                         \u001b[0m\u001b[38;5;15m│\u001b[0m\n",
       "    \u001b[0m\u001b[38;5;15m└┬─────────────────┬──────────────────┬─────────────────┬─────────────────┬┘\u001b[0m\n",
       "     \u001b[0m\u001b[38;5;15m1\u001b[0m                 \u001b[0m\u001b[38;5;15m2\u001b[0m                  \u001b[0m\u001b[38;5;15m3\u001b[0m                 \u001b[0m\u001b[38;5;15m4\u001b[0m                 \u001b[0m\u001b[38;5;15m5\u001b[0m \u001b[0m\n",
       "\u001b[38;5;15my (um)\u001b[0m                                 \u001b[0m\u001b[38;5;15mx (um)\u001b[0m                                   \u001b[0m\n"
      ]
     },
     "execution_count": 64,
     "metadata": {},
     "output_type": "execute_result"
    }
   ],
   "source": [
    "my_geometry"
   ]
  },
  {
   "cell_type": "code",
   "execution_count": 65,
   "id": "5e6beace-6adf-488b-acf2-7f0b1d3a56a2",
   "metadata": {},
   "outputs": [
    {
     "data": {
      "text/plain": [
       "                                   \u001b[0m\u001b[38;5;15mAtom Positions\u001b[0m                               \u001b[0m\n",
       "    \u001b[0m\u001b[38;5;15m┌──────────────────────────────────────────────────────────────────────────┐\u001b[0m\n",
       "\u001b[38;5;15m74.0┤\u001b[0m                                                                         \u001b[0m\u001b[38;2;100;55;255m•\u001b[0m\u001b[38;5;15m│\u001b[0m\n",
       "    \u001b[0m\u001b[38;5;15m│\u001b[0m                                                                          \u001b[0m\u001b[38;5;15m│\u001b[0m\n",
       "    \u001b[0m\u001b[38;5;15m│\u001b[0m                                                                          \u001b[0m\u001b[38;5;15m│\u001b[0m\n",
       "\u001b[38;5;15m61.7┤\u001b[0m                                                                          \u001b[0m\u001b[38;5;15m│\u001b[0m\n",
       "    \u001b[0m\u001b[38;5;15m│\u001b[0m                                                                          \u001b[0m\u001b[38;5;15m│\u001b[0m\n",
       "    \u001b[0m\u001b[38;5;15m│\u001b[0m                                                                          \u001b[0m\u001b[38;5;15m│\u001b[0m\n",
       "\u001b[38;5;15m49.3┤\u001b[0m                                                                          \u001b[0m\u001b[38;5;15m│\u001b[0m\n",
       "    \u001b[0m\u001b[38;5;15m│\u001b[0m                                                                          \u001b[0m\u001b[38;5;15m│\u001b[0m\n",
       "    \u001b[0m\u001b[38;5;15m│\u001b[0m                                                                          \u001b[0m\u001b[38;5;15m│\u001b[0m\n",
       "\u001b[38;5;15m37.0┤\u001b[0m                                                                          \u001b[0m\u001b[38;5;15m│\u001b[0m\n",
       "    \u001b[0m\u001b[38;5;15m│\u001b[0m                                                                          \u001b[0m\u001b[38;5;15m│\u001b[0m\n",
       "    \u001b[0m\u001b[38;5;15m│\u001b[0m                                                                          \u001b[0m\u001b[38;5;15m│\u001b[0m\n",
       "\u001b[38;5;15m24.7┤\u001b[0m     \u001b[0m\u001b[38;2;100;55;255m•\u001b[0m                                                                    \u001b[0m\u001b[38;5;15m│\u001b[0m\n",
       "    \u001b[0m\u001b[38;5;15m│\u001b[0m                                                                          \u001b[0m\u001b[38;5;15m│\u001b[0m\n",
       "    \u001b[0m\u001b[38;5;15m│\u001b[0m                                                                          \u001b[0m\u001b[38;5;15m│\u001b[0m\n",
       "\u001b[38;5;15m12.3┤\u001b[0m                                                                          \u001b[0m\u001b[38;5;15m│\u001b[0m\n",
       "    \u001b[0m\u001b[38;5;15m│\u001b[0m                                                                          \u001b[0m\u001b[38;5;15m│\u001b[0m\n",
       "    \u001b[0m\u001b[38;5;15m│\u001b[0m                                                                          \u001b[0m\u001b[38;5;15m│\u001b[0m\n",
       "\u001b[38;5;15m 0.0┤\u001b[0m\u001b[38;2;100;55;255m•\u001b[0m                                                      \u001b[0m\u001b[38;2;100;55;255m•\u001b[0m                  \u001b[0m\u001b[38;5;15m│\u001b[0m\n",
       "    \u001b[0m\u001b[38;5;15m└┬─────────────────┬──────────────────┬─────────────────┬─────────────────┬┘\u001b[0m\n",
       "    \u001b[0m\u001b[38;5;15m0.0\u001b[0m              \u001b[0m\u001b[38;5;15m18.5\u001b[0m               \u001b[0m\u001b[38;5;15m37.0\u001b[0m              \u001b[0m\u001b[38;5;15m55.5\u001b[0m             \u001b[0m\u001b[38;5;15m74.0\u001b[0m \u001b[0m\n",
       "\u001b[38;5;15my (um)\u001b[0m                                 \u001b[0m\u001b[38;5;15mx (um)\u001b[0m                                   \u001b[0m\n"
      ]
     },
     "execution_count": 65,
     "metadata": {},
     "output_type": "execute_result"
    }
   ],
   "source": [
    "my_geometry_odd_qubit_order"
   ]
  },
  {
   "cell_type": "code",
   "execution_count": null,
   "id": "9b44fb93-e292-4fc9-942c-ba87aee015af",
   "metadata": {},
   "outputs": [],
   "source": []
  }
 ],
 "metadata": {
  "kernelspec": {
   "display_name": "Python 3 (ipykernel)",
   "language": "python",
   "name": "python3"
  },
  "language_info": {
   "codemirror_mode": {
    "name": "ipython",
    "version": 3
   },
   "file_extension": ".py",
   "mimetype": "text/x-python",
   "name": "python",
   "nbconvert_exporter": "python",
   "pygments_lexer": "ipython3",
   "version": "3.9.4"
  }
 },
 "nbformat": 4,
 "nbformat_minor": 5
}
