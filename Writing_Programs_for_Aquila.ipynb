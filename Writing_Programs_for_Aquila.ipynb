{
 "cells": [
  {
   "cell_type": "markdown",
   "id": "d170b1db-93d1-4e1c-9d72-e2954ba6290b",
   "metadata": {},
   "source": [
    "# Writing Programs for Aquila"
   ]
  },
  {
   "cell_type": "markdown",
   "id": "5f40230f-f0f2-40c2-9766-26322bf1c5f6",
   "metadata": {},
   "source": [
    "## Query Aquila capabilities \n",
    "To see the docstring in a Jupyter notebook, type out the object you're interested in and press `shift + tab`.\n",
    "\n",
    "The `bloqade function` `get_capabilities` returns the parameter value limits for Aquillia. \n",
    "\n",
    "We can use `shift + tab` to see its docstring, which defines the units for the returned values."
   ]
  },
  {
   "cell_type": "code",
   "execution_count": 2,
   "id": "01d80d79-1d93-4168-b42e-36882fa4f8d3",
   "metadata": {},
   "outputs": [
    {
     "name": "stdout",
     "output_type": "stream",
     "text": [
      "{'lattice': {'area': {'height': Decimal('76'), 'width': Decimal('75')},\n",
      "             'geometry': {'number_sites_max': 256,\n",
      "                          'position_resolution': Decimal('0.1'),\n",
      "                          'spacing_radial_min': Decimal('4'),\n",
      "                          'spacing_vertical_min': Decimal('4')},\n",
      "             'number_qubits_max': 256},\n",
      " 'rydberg': {'c6_coefficient': Decimal('5.42E+6'),\n",
      "             'global_': {'detuning_max': Decimal('125.0000000'),\n",
      "                         'detuning_min': Decimal('-125.0000000'),\n",
      "                         'detuning_resolution': Decimal('2E-7'),\n",
      "                         'detuning_slew_rate_max': Decimal('2500.0000000000000'),\n",
      "                         'phase_max': Decimal('99.0'),\n",
      "                         'phase_min': Decimal('-99.0'),\n",
      "                         'phase_resolution': Decimal('5E-7'),\n",
      "                         'rabi_frequency_max': Decimal('15.8000000'),\n",
      "                         'rabi_frequency_min': Decimal('0E-7'),\n",
      "                         'rabi_frequency_resolution': Decimal('0.0004000'),\n",
      "                         'rabi_frequency_slew_rate_max': Decimal('250.0000000000000'),\n",
      "                         'time_delta_min': Decimal('0.05'),\n",
      "                         'time_max': Decimal('4'),\n",
      "                         'time_min': Decimal('0E+5'),\n",
      "                         'time_resolution': Decimal('0.001')},\n",
      "             'local': {'detuning_max': Decimal('125.0000000'),\n",
      "                       'detuning_min': Decimal('0E-7'),\n",
      "                       'detuning_slew_rate_max': Decimal('1256.6000000000000'),\n",
      "                       'number_local_detuning_sites': 200,\n",
      "                       'site_coefficient_max': Decimal('1.0'),\n",
      "                       'site_coefficient_min': Decimal('0.0'),\n",
      "                       'spacing_radial_min': Decimal('5'),\n",
      "                       'time_delta_min': Decimal('0.05'),\n",
      "                       'time_resolution': Decimal('0.001')}},\n",
      " 'task': {'number_shots_max': 1000, 'number_shots_min': 1}}\n"
     ]
    }
   ],
   "source": [
    "import pprint # A standard Python library for 'pretty printing'\n",
    "from bloqade import get_capabilities \n",
    "\n",
    "capabilities = get_capabilities().dict()['capabilities']\n",
    "pprint.pprint(capabilities)"
   ]
  },
  {
   "cell_type": "code",
   "execution_count": 5,
   "id": "c3e34ffa-232f-41ba-8c0f-a65c32f2de4d",
   "metadata": {},
   "outputs": [
    {
     "data": {
      "text/plain": [
       "<function bloqade.factory.get_capabilities(use_experimental: bool = False) -> 'QuEraCapabilities'>"
      ]
     },
     "execution_count": 5,
     "metadata": {},
     "output_type": "execute_result"
    }
   ],
   "source": [
    "# this cell is an example of what you would see with shift + tab\n",
    "# great way to check the units \n",
    "get_capabilities"
   ]
  },
  {
   "cell_type": "markdown",
   "id": "1a2a6607-1390-4fd3-8453-54c192a4c4be",
   "metadata": {},
   "source": [
    "## Running some bloqade geometries\n",
    "\n",
    "To write a program for Aquila, we start with an atom geometry. Now lets try running some setups. Let's create a Chain of 4 atoms that are each $50 \\, \\mu m$ apart. Take a look at its methods and attributes.\n",
    "\n",
    "**Note**: Geometry is actually important on the real system because certain geometries are less noise than others (for example vertical rather than horizontal.)\n",
    "\n",
    "*Remember*: to see the methods and attributes of an object instance, first instantiate the object by evaluating the cell (`shift + return`), then type `.` followed by `tab`.\n"
   ]
  },
  {
   "cell_type": "code",
   "execution_count": 6,
   "id": "6f9b2689-4c65-4c28-9a70-883ac9982d7f",
   "metadata": {},
   "outputs": [],
   "source": [
    "from math import pi\n",
    "from bloqade.atom_arrangement import Chain"
   ]
  },
  {
   "cell_type": "code",
   "execution_count": 10,
   "id": "99efe22d-7fa4-4d01-9b4c-0a2ed33b142f",
   "metadata": {},
   "outputs": [
    {
     "data": {
      "text/plain": [
       "                                   \u001b[0m\u001b[38;5;15mAtom Positions\u001b[0m                               \u001b[0m\n",
       "     \u001b[0m\u001b[38;5;15m┌─────────────────────────────────────────────────────────────────────────┐\u001b[0m\n",
       "\u001b[38;5;15m 1.00┤\u001b[0m                                                                         \u001b[0m\u001b[38;5;15m│\u001b[0m\n",
       "     \u001b[0m\u001b[38;5;15m│\u001b[0m                                                                         \u001b[0m\u001b[38;5;15m│\u001b[0m\n",
       "     \u001b[0m\u001b[38;5;15m│\u001b[0m                                                                         \u001b[0m\u001b[38;5;15m│\u001b[0m\n",
       "\u001b[38;5;15m 0.67┤\u001b[0m                                                                         \u001b[0m\u001b[38;5;15m│\u001b[0m\n",
       "     \u001b[0m\u001b[38;5;15m│\u001b[0m                                                                         \u001b[0m\u001b[38;5;15m│\u001b[0m\n",
       "     \u001b[0m\u001b[38;5;15m│\u001b[0m                                                                         \u001b[0m\u001b[38;5;15m│\u001b[0m\n",
       "\u001b[38;5;15m 0.33┤\u001b[0m                                                                         \u001b[0m\u001b[38;5;15m│\u001b[0m\n",
       "     \u001b[0m\u001b[38;5;15m│\u001b[0m                                                                         \u001b[0m\u001b[38;5;15m│\u001b[0m\n",
       "     \u001b[0m\u001b[38;5;15m│\u001b[0m                                                                         \u001b[0m\u001b[38;5;15m│\u001b[0m\n",
       "\u001b[38;5;15m 0.00┤\u001b[0m\u001b[38;2;100;55;255m•\u001b[0m                       \u001b[0m\u001b[38;2;100;55;255m•\u001b[0m                       \u001b[0m\u001b[38;2;100;55;255m•\u001b[0m                       \u001b[0m\u001b[38;2;100;55;255m•\u001b[0m\u001b[38;5;15m│\u001b[0m\n",
       "     \u001b[0m\u001b[38;5;15m│\u001b[0m                                                                         \u001b[0m\u001b[38;5;15m│\u001b[0m\n",
       "     \u001b[0m\u001b[38;5;15m│\u001b[0m                                                                         \u001b[0m\u001b[38;5;15m│\u001b[0m\n",
       "\u001b[38;5;15m-0.33┤\u001b[0m                                                                         \u001b[0m\u001b[38;5;15m│\u001b[0m\n",
       "     \u001b[0m\u001b[38;5;15m│\u001b[0m                                                                         \u001b[0m\u001b[38;5;15m│\u001b[0m\n",
       "     \u001b[0m\u001b[38;5;15m│\u001b[0m                                                                         \u001b[0m\u001b[38;5;15m│\u001b[0m\n",
       "\u001b[38;5;15m-0.67┤\u001b[0m                                                                         \u001b[0m\u001b[38;5;15m│\u001b[0m\n",
       "     \u001b[0m\u001b[38;5;15m│\u001b[0m                                                                         \u001b[0m\u001b[38;5;15m│\u001b[0m\n",
       "     \u001b[0m\u001b[38;5;15m│\u001b[0m                                                                         \u001b[0m\u001b[38;5;15m│\u001b[0m\n",
       "\u001b[38;5;15m-1.00┤\u001b[0m                                                                         \u001b[0m\u001b[38;5;15m│\u001b[0m\n",
       "     \u001b[0m\u001b[38;5;15m└┬─────────────────┬─────────────────┬─────────────────┬─────────────────┬┘\u001b[0m\n",
       "     \u001b[0m\u001b[38;5;15m0.0\u001b[0m              \u001b[0m\u001b[38;5;15m37.5\u001b[0m              \u001b[0m\u001b[38;5;15m75.0\u001b[0m              \u001b[0m\u001b[38;5;15m112.5\u001b[0m           \u001b[0m\u001b[38;5;15m150.0\u001b[0m \u001b[0m\n",
       "\u001b[38;5;15my (um)\u001b[0m                                 \u001b[0m\u001b[38;5;15mx (um)\u001b[0m                                   \u001b[0m\n"
      ]
     },
     "execution_count": 10,
     "metadata": {},
     "output_type": "execute_result"
    }
   ],
   "source": [
    "geometry = Chain(4, lattice_spacing = 50.0)\n",
    "# you can always look at the geometry visually.\n",
    "geometry"
   ]
  },
  {
   "cell_type": "markdown",
   "id": "66554c83-1080-4a25-ae1e-54b4f225fa1b",
   "metadata": {},
   "source": [
    "Methods to create pulse sequences that manipulate the rabi pulse or local detunings are found under `geometry.rydberg`."
   ]
  },
  {
   "cell_type": "code",
   "execution_count": 11,
   "id": "21e5ada9-cb8e-4725-9ad9-28dcc940787a",
   "metadata": {},
   "outputs": [
    {
     "data": {
      "text/plain": [
       "<bloqade.builder.coupling.Rydberg at 0x10554e130>"
      ]
     },
     "execution_count": 11,
     "metadata": {},
     "output_type": "execute_result"
    }
   ],
   "source": [
    "# Again, try a shift+tab here\n",
    "geometry.rydberg"
   ]
  },
  {
   "cell_type": "markdown",
   "id": "18438a98-0d01-4130-bedf-12785807be83",
   "metadata": {},
   "source": [
    "## Evolving the system \n",
    "\n",
    "Let's create a simple program that applies a NOT gate to the initial $\\ket{1111}$ state, by applying a $\\pi$ Rabi pulse (a $\\pi$ rotation on the Bloch sphere). \n",
    "\n",
    "*Remember*: \n",
    "* Atoms are initialised in the $\\ket{1}$ state. \n",
    "* All atoms (qubits) undergo this evolution so you should get $\\ket{1111}\\rightarrow\\ket{0000}$. "
   ]
  },
  {
   "cell_type": "code",
   "execution_count": 12,
   "id": "d5f897be-180c-44c3-a1c5-3b7985db9f72",
   "metadata": {},
   "outputs": [],
   "source": [
    "NOT = (\n",
    "  geometry\n",
    "  .rydberg.rabi.amplitude.uniform\n",
    "  .constant(pi,1)\n",
    ")"
   ]
  },
  {
   "cell_type": "markdown",
   "id": "f11f3ab7-30b7-493c-87cb-8da54ae36502",
   "metadata": {},
   "source": [
    "We can simulate the program with the Python backend as follows.\n",
    "\n",
    "**NOTE**: $10000$ shots would cost USD $~1300$! (Also, is it even within the device capability limits?)"
   ]
  },
  {
   "cell_type": "code",
   "execution_count": 13,
   "id": "d2c31633-4777-43b5-936c-ae4d9e39cc03",
   "metadata": {},
   "outputs": [
    {
     "data": {
      "text/plain": [
       "[OrderedDict([('0000', 10000)])]"
      ]
     },
     "execution_count": 13,
     "metadata": {},
     "output_type": "execute_result"
    }
   ],
   "source": [
    "n_shots = 10000\n",
    "results = NOT.bloqade.python().run(n_shots)\n",
    "results.report().counts()"
   ]
  },
  {
   "cell_type": "markdown",
   "id": "f2f71aa4-d09b-41b0-8521-0a01be186e47",
   "metadata": {},
   "source": [
    "The `results` object contains quite a bit of information, use `results.report().show()` to open a visualisation of the simulation results.\n",
    "**Note** that the above results are for an *ideal* system and setup. "
   ]
  },
  {
   "cell_type": "code",
   "execution_count": 18,
   "id": "87359593-de3e-4d41-a08d-7792a77580e1",
   "metadata": {},
   "outputs": [
    {
     "name": "stdout",
     "output_type": "stream",
     "text": [
      "0.0 150000000.0 0.0 0.0\n"
     ]
    }
   ],
   "source": [
    "# this can be a bit temperamental and also will open a window in the default browser\n",
    "results.report().show()"
   ]
  },
  {
   "cell_type": "markdown",
   "id": "ec879e81-64d8-4302-8623-45d503ea1e08",
   "metadata": {},
   "source": [
    "To run a simulation on Aquilla the atom geometry and pulse sequence must be within the its capability limits.\n",
    "\n",
    "With that in mind, there are a couple issues with our `NOT` program:\n",
    "\n",
    "* The chain has a horizontal length of $200 \\, \\mu m$, while the maximum width is $75 \\, \\mu m$.\n",
    "* A `constant` pulse is not possible in practice; the Rabi amplitude waveform must start and end at zero."
   ]
  },
  {
   "cell_type": "code",
   "execution_count": 19,
   "id": "14f122fb-85a4-40a2-a551-d788d4bf4518",
   "metadata": {},
   "outputs": [
    {
     "data": {
      "text/plain": [
       "[OrderedDict([('0000', 9302),\n",
       "              ('0100', 247),\n",
       "              ('0010', 231),\n",
       "              ('1000', 64),\n",
       "              ('0001', 47),\n",
       "              ('0110', 45),\n",
       "              ('1100', 29),\n",
       "              ('0011', 28),\n",
       "              ('1010', 3),\n",
       "              ('0101', 2),\n",
       "              ('1101', 1),\n",
       "              ('1110', 1)])]"
      ]
     },
     "execution_count": 19,
     "metadata": {},
     "output_type": "execute_result"
    }
   ],
   "source": [
    "# Reducing the atom spacing.\n",
    "\n",
    "geometry = Chain(4, lattice_spacing = 15.0)\n",
    "\n",
    "NOT = (\n",
    "  geometry\n",
    "  .rydberg.rabi.amplitude.uniform\n",
    "  .constant(pi,1)\n",
    ")\n",
    "\n",
    "results = NOT.bloqade.python().run(n_shots)\n",
    "results.report().counts()"
   ]
  },
  {
   "cell_type": "markdown",
   "id": "f3c58b2e-4adf-4106-8135-3a5fd7f53074",
   "metadata": {},
   "source": [
    "Now instead the results show a large number of *incorrect* answers but the correct result accounts for $93\\%$. Yet this is not representative of what could be run on the system. We need to adjust the pulse. Instead of `uniform` we need to specify a continuous pulse sequence. Here we use `peicewise_linear`."
   ]
  },
  {
   "cell_type": "code",
   "execution_count": 20,
   "id": "732866f8-5063-4952-9df4-8831b6138e62",
   "metadata": {},
   "outputs": [
    {
     "data": {
      "text/plain": [
       "[OrderedDict([('0000', 8972),\n",
       "              ('0100', 287),\n",
       "              ('0010', 262),\n",
       "              ('0001', 140),\n",
       "              ('1000', 115),\n",
       "              ('0110', 87),\n",
       "              ('0011', 62),\n",
       "              ('1100', 60),\n",
       "              ('0101', 4),\n",
       "              ('1010', 3),\n",
       "              ('1011', 3),\n",
       "              ('1110', 3),\n",
       "              ('0111', 2)])]"
      ]
     },
     "execution_count": 20,
     "metadata": {},
     "output_type": "execute_result"
    }
   ],
   "source": [
    "NOT = (\n",
    "  geometry\n",
    "  .rydberg.rabi.amplitude.uniform\n",
    "  .piecewise_linear(values = [0, pi, pi, 0], durations = [0.06, 1, 0.06])\n",
    ")\n",
    "\n",
    "results = NOT.bloqade.python().run(n_shots)\n",
    "results.report().counts()"
   ]
  },
  {
   "cell_type": "markdown",
   "id": "7f8d0826-0277-46e6-8d91-2c21aba169ba",
   "metadata": {},
   "source": [
    "Again, the correct result is $\\less100\\%$ and has even gotten worse. \n",
    "\n",
    "As the pulse now has a ramp-up and ramp-dow period, we need to factor this into the total pulse area.\n",
    "\n",
    "By reducing the time spent at a Rabi amplitude of $\\pi$ based on the area of the ramp-up and ramp-down periods, the accuracy of the `NOT` program improves."
   ]
  },
  {
   "cell_type": "code",
   "execution_count": 14,
   "id": "447c7343-0b94-46e0-9b28-74db6a9e71c6",
   "metadata": {},
   "outputs": [
    {
     "data": {
      "text/plain": [
       "[OrderedDict([('0000', 9317),\n",
       "              ('0010', 231),\n",
       "              ('0100', 220),\n",
       "              ('1000', 66),\n",
       "              ('0001', 56),\n",
       "              ('0110', 42),\n",
       "              ('1100', 34),\n",
       "              ('0011', 25),\n",
       "              ('1010', 4),\n",
       "              ('0111', 2),\n",
       "              ('0101', 1),\n",
       "              ('1001', 1),\n",
       "              ('1110', 1)])]"
      ]
     },
     "execution_count": 14,
     "metadata": {},
     "output_type": "execute_result"
    }
   ],
   "source": [
    "area_correction = 2*0.06*0.5\n",
    "\n",
    "NOT = (\n",
    "  geometry\n",
    "  .rydberg.rabi.amplitude.uniform\n",
    "  .piecewise_linear(values = [0, pi, pi, 0], durations = [0.06, 1 - area_correction, 0.06])\n",
    ")\n",
    "\n",
    "results = NOT.bloqade.python().run(n_shots)\n",
    "results.report().counts()"
   ]
  },
  {
   "cell_type": "markdown",
   "id": "2b918d62-62f7-4263-b8be-1f0d6141b82b",
   "metadata": {},
   "source": [
    "Now we are back to $93\\%$. Yet this is for lots of shots AND also assumes an ideal system. There is no noise here. This is a key thing to consider. Now consider trying this using a job submission script and compare the results."
   ]
  },
  {
   "cell_type": "markdown",
   "id": "6f592da8-218e-4cbf-8fa2-b41f2f84a53f",
   "metadata": {},
   "source": [
    "# CNOT?"
   ]
  },
  {
   "cell_type": "code",
   "execution_count": 1,
   "id": "d76d3e27-c1a1-402f-941c-b814e0d08cdd",
   "metadata": {},
   "outputs": [
    {
     "name": "stdout",
     "output_type": "stream",
     "text": [
      "[OrderedDict({'11': 95, '10': 3, '01': 2})]\n"
     ]
    }
   ],
   "source": [
    "from math import pi\n",
    "from bloqade import start\n",
    "from bloqade.atom_arrangement import Chain\n",
    "\n",
    "\n",
    "pulse_sequence = (start.rydberg\n",
    "    .detuning\n",
    "    .location(0)\n",
    "    .piecewise_linear([0.06, 1, 0.06, 0.06, 1, 0.06, 0.06, 1, 0.06],[0, -50, -50, 0, 0, 0, 0, -50, -50, 0]))\n",
    "\n",
    "\n",
    "pulse_sequence = (pulse_sequence.rydberg\n",
    "    .detuning\n",
    "    .location(1)\n",
    "    .piecewise_linear([1.12, 0.06, 1, 0.06],[0, 0, -50, -50, 0]))\n",
    "\n",
    "pulse_sequence = (pulse_sequence\n",
    "    .rydberg\n",
    "    .rabi\n",
    "    .amplitude\n",
    "    .uniform\n",
    "    .piecewise_linear([0.06, 1, 0.06, 0.06, 1, 0.06, 0.06, 1, 0.06],[0, pi, pi, 0, pi, pi, 0, pi, pi, 0]))\n",
    "\n",
    "pulse_sequence = pulse_sequence.parse_sequence()\n",
    "\n",
    "geometry = Chain(2, lattice_spacing = 6)\n",
    "\n",
    "program = geometry.apply(pulse_sequence)\n",
    "\n",
    "program.show()\n",
    "\n",
    "results = program.bloqade.python().run(100)\n",
    "\n",
    "bitstring_counts = results.report().counts()\n",
    "print(bitstring_counts)\n"
   ]
  },
  {
   "cell_type": "code",
   "execution_count": null,
   "id": "48ed1b52-2b71-4237-abc4-7e953043d045",
   "metadata": {},
   "outputs": [],
   "source": []
  }
 ],
 "metadata": {
  "kernelspec": {
   "display_name": "Python 3 (ipykernel)",
   "language": "python",
   "name": "python3"
  },
  "language_info": {
   "codemirror_mode": {
    "name": "ipython",
    "version": 3
   },
   "file_extension": ".py",
   "mimetype": "text/x-python",
   "name": "python",
   "nbconvert_exporter": "python",
   "pygments_lexer": "ipython3",
   "version": "3.12.5"
  }
 },
 "nbformat": 4,
 "nbformat_minor": 5
}
