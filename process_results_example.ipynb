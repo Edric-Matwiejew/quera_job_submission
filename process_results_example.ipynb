{
 "cells": [
  {
   "cell_type": "markdown",
   "id": "b87855db-f843-4de4-b386-36a3c9af2ff6",
   "metadata": {},
   "source": [
    "# Sample processing \n",
    "This script shows how you can process a json file produced by submitting to Aquila \n",
    "(or the bloqade backends).\n",
    "\n",
    "* Note that we are NOT importing bloqade here but it could be useful in some circumstances. \n",
    "* Note that there is no API for directly pulling from the dashboard used by QuEra so you have to download the json results file somewhere before processing it.\n",
    "* Note that Aquila qubits are initialized in the $\\ket{1}$ state, **not** $\\ket{0}$"
   ]
  },
  {
   "cell_type": "code",
   "execution_count": 1,
   "id": "17b8fad7-bf4f-4d70-ad5b-42e01bc94e41",
   "metadata": {},
   "outputs": [],
   "source": [
    "# import the json library to read file \n",
    "import json\n",
    "import matplotlib.pyplot as plt\n",
    "from collections import Counter"
   ]
  },
  {
   "cell_type": "code",
   "execution_count": 8,
   "id": "eb645081-48d2-4128-85a1-e9288f41be6e",
   "metadata": {},
   "outputs": [],
   "source": [
    "# load the data\n",
    "results_path=\"#############\"\n",
    "\n",
    "# as an example you can use the sample output provided in the repo\n",
    "results_path=\"examples/results/5003-2617153582.json\"\n",
    "\n",
    "# this example is a simple two-qubit system and evoling this under a +pi rotation\n",
    "\n",
    "with open(results_path, 'r') as json_file:\n",
    "    results = json.load(json_file)"
   ]
  },
  {
   "cell_type": "code",
   "execution_count": 4,
   "id": "67e15647-7116-4499-8fb3-7ee6eb90d7a1",
   "metadata": {},
   "outputs": [
    {
     "name": "stdout",
     "output_type": "stream",
     "text": [
      "{'task_status': 'Completed', 'shot_outputs': [{'shot_status': 'Completed', 'pre_sequence': [1, 1], 'post_sequence': [0, 0]}, {'shot_status': 'Completed', 'pre_sequence': [1, 1], 'post_sequence': [0, 0]}, {'shot_status': 'Completed', 'pre_sequence': [1, 1], 'post_sequence': [0, 0]}, {'shot_status': 'Completed', 'pre_sequence': [1, 1], 'post_sequence': [0, 1]}, {'shot_status': 'Completed', 'pre_sequence': [1, 1], 'post_sequence': [0, 1]}, {'shot_status': 'Completed', 'pre_sequence': [1, 1], 'post_sequence': [0, 0]}, {'shot_status': 'Completed', 'pre_sequence': [1, 1], 'post_sequence': [0, 0]}, {'shot_status': 'Completed', 'pre_sequence': [1, 1], 'post_sequence': [0, 1]}, {'shot_status': 'Completed', 'pre_sequence': [1, 1], 'post_sequence': [1, 0]}, {'shot_status': 'Completed', 'pre_sequence': [1, 1], 'post_sequence': [0, 0]}]}\n"
     ]
    }
   ],
   "source": [
    "# the json will have the task status, shot_outputs and for each shot the initial and final states\n",
    "print(results)"
   ]
  },
  {
   "cell_type": "markdown",
   "id": "e8ad6137-f322-4716-99ac-e9c70ae7072d",
   "metadata": {},
   "source": [
    "## Filtering results \n",
    "It can be very desirable to filter results based on the pre_sequence and the shot status."
   ]
  },
  {
   "cell_type": "code",
   "execution_count": 5,
   "id": "0d4f36db-c520-4284-b2d3-b472ddf0ea21",
   "metadata": {},
   "outputs": [],
   "source": [
    "# Filter 'post_sequence' based on 'pre_sequence' and 'shot_status'\n",
    "def FilterPostSequence(results : dict, desired_pre_sequence : list):\n",
    "    '''Filter the results dictionary so that it only contains the output of shots that were successfully completed\n",
    "    and had the desired initial state\n",
    "    '''\n",
    "    post_selected_results = list()\n",
    "    if results['task_status'] != 'Completed': \n",
    "        return post_selected_results\n",
    "    \n",
    "    post_selected_results = [\n",
    "        shot['post_sequence'] \n",
    "        for shot in results['shot_outputs'] \n",
    "        if shot['pre_sequence'] == desired_pre_sequence and shot['shot_status'] == 'Completed'\n",
    "    ]\n",
    "    return post_selected_results"
   ]
  },
  {
   "cell_type": "markdown",
   "id": "55f504f7-a9fd-480d-8bc8-41fd46032629",
   "metadata": {},
   "source": [
    "## Examining Results\n",
    "Let's look at the post-processed results. "
   ]
  },
  {
   "cell_type": "code",
   "execution_count": 7,
   "id": "3d5b3651-16c5-4853-a6c1-5f77bc4a4ae8",
   "metadata": {},
   "outputs": [
    {
     "name": "stdout",
     "output_type": "stream",
     "text": [
      "10 of 10 shots post-selected.\n"
     ]
    }
   ],
   "source": [
    "# now lets try storing the post selection\n",
    "post_selected_results = FilterPostSequence(results, [1,1])\n",
    "print(f'{len(post_selected_results)} of {len(results[\"shot_outputs\"])} shots post-selected.')\n",
    "# note that this example is a simple "
   ]
  },
  {
   "cell_type": "code",
   "execution_count": 10,
   "id": "c81f7130-c54f-4374-866d-f4c1bee5681c",
   "metadata": {},
   "outputs": [
    {
     "data": {
      "image/png": "[encoded data removed]",
      "text/plain": [
       "<Figure size 640x480 with 1 Axes>"
      ]
     },
     "metadata": {},
     "output_type": "display_data"
    }
   ],
   "source": [
    "# lets plot the results \n",
    "post_sequence_tally = Counter(tuple(seq) for seq in post_selected_results)\n",
    "\n",
    "labels, counts = zip(*post_sequence_tally.items())\n",
    "labels = [''.join(map(str, label)) for label in labels]\n",
    "\n",
    "plt.bar(labels, counts)\n",
    "plt.xlabel('State')\n",
    "plt.ylabel('Shots')\n",
    "plt.show()"
   ]
  },
  {
   "cell_type": "markdown",
   "id": "b64f8200-6c82-4877-b3c2-145bd4e86438",
   "metadata": {},
   "source": [
    "## Interpreting results \n",
    "The results file does NOT contain any information about the circuit (that is stored in the job submission json file). In this case, the evolution of the two qubits is such that we are effectively doing a $\\ket{11}\\rightarrow\\ket{00}$ transition. You can see that the above graph does have the desired output being the dominate state but there are other states that are populated. This is because the initial spacing between the qubits was not exactly as desired to produce the NOT gate on both qubits. \n",
    "\n",
    "### Questions: \n",
    "\n",
    "* why is it not perfect for the simple evolution? (consider the Hamiltonian)\n",
    "* is it actually asymmetric in the $\\ket{01}$ $\\ket{10}$ states? If so why?\n",
    "\n"
   ]
  },
  {
   "cell_type": "code",
   "execution_count": null,
   "id": "dac67052-c590-44ee-ab7d-79f54519dfc9",
   "metadata": {},
   "outputs": [],
   "source": []
  }
 ],
 "metadata": {
  "kernelspec": {
   "display_name": "Python 3 (ipykernel)",
   "language": "python",
   "name": "python3"
  },
  "language_info": {
   "codemirror_mode": {
    "name": "ipython",
    "version": 3
   },
   "file_extension": ".py",
   "mimetype": "text/x-python",
   "name": "python",
   "nbconvert_exporter": "python",
   "pygments_lexer": "ipython3",
   "version": "3.9.4"
  }
 },
 "nbformat": 4,
 "nbformat_minor": 5
}
